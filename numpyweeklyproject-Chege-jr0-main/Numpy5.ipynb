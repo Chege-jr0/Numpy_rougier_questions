{
 "cells": [
  {
   "cell_type": "markdown",
   "metadata": {},
   "source": [
    "# Numpy Exercise 5\n",
    "\n",
    "### All of the questions in this exercise are attributed to rougier/numpy-100"
   ]
  },
  {
   "cell_type": "code",
   "execution_count": 1,
   "metadata": {},
   "outputs": [],
   "source": [
    "#The rougier/numpy-100 is a collection of 100 excuses focused on the numpy library\n",
    "import numpy as np\n"
   ]
  },
  {
   "cell_type": "markdown",
   "metadata": {},
   "source": [
    "#### 61. Find the nearest value from a given value in an array (★★☆)"
   ]
  },
  {
   "cell_type": "code",
   "execution_count": 2,
   "metadata": {},
   "outputs": [
    {
     "name": "stdout",
     "output_type": "stream",
     "text": [
      "3\n"
     ]
    }
   ],
   "source": [
    "data = np.array([1,2,3,5,6,7])\n",
    "target = 4\n",
    "\n",
    "nearest_value = min(data, key=lambda x: abs(x-target))\n",
    "print(nearest_value)"
   ]
  },
  {
   "cell_type": "markdown",
   "metadata": {},
   "source": [
    "#### 62. Considering two arrays with shape (1,3) and (3,1), how to compute their sum using an iterator? (★★☆)"
   ]
  },
  {
   "cell_type": "code",
   "execution_count": 3,
   "metadata": {},
   "outputs": [
    {
     "name": "stdout",
     "output_type": "stream",
     "text": [
      "(1, 3)\n",
      "(3, 1)\n",
      "[[2 3 4]\n",
      " [3 4 5]\n",
      " [4 5 6]]\n"
     ]
    }
   ],
   "source": [
    "#Example of broadcasting where the second array is replicated to match the she of the first one\n",
    "A = np.array([[1,2,3]])\n",
    "B = np.array([[1],[2],[3]])\n",
    "\n",
    "print(A.shape)\n",
    "print(B.shape)\n",
    "\n",
    "print(A + B)\n"
   ]
  },
  {
   "cell_type": "markdown",
   "metadata": {},
   "source": [
    "#### 63. Create an array class that has a name attribute (★★☆)"
   ]
  },
  {
   "cell_type": "code",
   "execution_count": 4,
   "metadata": {},
   "outputs": [
    {
     "name": "stdout",
     "output_type": "stream",
     "text": [
      "[1 2 3 4 5]\n",
      "arrayname\n"
     ]
    }
   ],
   "source": [
    "my_array = np.array([1, 2, 3, 4, 5])\n",
    "array_name = \"arrayname\"\n",
    "\n",
    "print(my_array)\n",
    "print(array_name)\n"
   ]
  },
  {
   "cell_type": "markdown",
   "metadata": {},
   "source": [
    "#### 64. Consider a given vector, how to add 1 to each element indexed by a second vector (be careful with repeated indices)? (★★★)"
   ]
  },
  {
   "cell_type": "code",
   "execution_count": 5,
   "metadata": {},
   "outputs": [
    {
     "name": "stdout",
     "output_type": "stream",
     "text": [
      "[11 21 31 41 51]\n"
     ]
    }
   ],
   "source": [
    "# A vector is also a 1D array\n",
    "# We use fancy indexing to get the elements in the array for indices 0,2 & 4 and add 1 to each\n",
    "\n",
    "arr = np.array([10, 20, 30, 40, 50])\n",
    "\n",
    "idx = np.array([0, 1, 2, 3, 4])\n",
    "\n",
    "arr[idx] += 1\n",
    "\n",
    "print(arr)"
   ]
  },
  {
   "cell_type": "markdown",
   "metadata": {},
   "source": [
    "#### 65. How to accumulate elements of a vector (X) to an array (F) based on an index list (I)? (★★★)"
   ]
  },
  {
   "cell_type": "code",
   "execution_count": 6,
   "metadata": {},
   "outputs": [
    {
     "name": "stdout",
     "output_type": "stream",
     "text": [
      "[10 21 32 43 54 60]\n"
     ]
    }
   ],
   "source": [
    "#add.at is a universal function where the arrays are added based on the index specified\n",
    "X = np.array([1, 2, 3, 4])\n",
    "\n",
    "l = np.array([1, 2, 3, 4])\n",
    "\n",
    "F = np.array([10, 20, 30, 40, 50, 60])\n",
    "\n",
    "np.add.at(F, l, X)\n",
    "\n",
    "print(F)\n"
   ]
  },
  {
   "cell_type": "markdown",
   "metadata": {},
   "source": [
    "#### 66. Considering a (w,h,3) image of (dtype=ubyte), compute the number of unique colors (★★☆)"
   ]
  },
  {
   "cell_type": "code",
   "execution_count": 7,
   "metadata": {},
   "outputs": [
    {
     "name": "stdout",
     "output_type": "stream",
     "text": [
      "3\n"
     ]
    }
   ],
   "source": [
    "#w, h, 3 means the width, height and 3 for the color Channels(Red, Green, Blue)\n",
    "#data type ubyte = unsigned 8-bit integer where value range from 0 to 255\n",
    "#The np.unique only worsk on rows that why we reshape the array\n",
    "#The pixel is a set of unique colors\n",
    "image = np.array([\n",
    "                 [[255,0,0],[0,255,0]],\n",
    "                 [[0,0,255], [255,0,0]]\n",
    "                 ])\n",
    "pixels = image.reshape(-1, 3)\n",
    "\n",
    "unique_colors = np.unique(pixels, axis =0)\n",
    "print(len(unique_colors))\n"
   ]
  },
  {
   "cell_type": "markdown",
   "metadata": {},
   "source": [
    "#### 67. Considering a four dimensions array, how to get sum over the last two axis at once? (★★★)"
   ]
  },
  {
   "cell_type": "code",
   "execution_count": 8,
   "metadata": {},
   "outputs": [
    {
     "name": "stdout",
     "output_type": "stream",
     "text": [
      "[[[[ 1  2  3]\n",
      "   [ 4  5  6]]\n",
      "\n",
      "  [[ 7  8  9]\n",
      "   [10 11 12]]]\n",
      "\n",
      "\n",
      " [[[13 14 15]\n",
      "   [16 17 18]]\n",
      "\n",
      "  [[19 20 21]\n",
      "   [22 23 24]]]]\n",
      "[[ 21  57]\n",
      " [ 93 129]]\n"
     ]
    }
   ],
   "source": [
    "#Instead of hardcoding everything, just create an array with arange and then shape it\n",
    "fourD_Array = np.arange(1,25).reshape(2,2,2,3)\n",
    "\n",
    "print(fourD_Array)\n",
    "\n",
    "sum_result = fourD_Array.sum(axis=(2,3))\n",
    "\n",
    "print(sum_result)"
   ]
  },
  {
   "cell_type": "markdown",
   "metadata": {},
   "source": [
    "#### 68. Considering a one-dimensional vector D, how to compute means of subsets of D using a vector S of same size describing subset  indices? (★★★)"
   ]
  },
  {
   "cell_type": "code",
   "execution_count": 9,
   "metadata": {},
   "outputs": [
    {
     "name": "stdout",
     "output_type": "stream",
     "text": [
      "[15. 35. 55.]\n"
     ]
    }
   ],
   "source": [
    "#lets start off with vector D\n",
    "D = np.array([10, 20, 30, 40, 50, 60])\n",
    "#vectors s describing subset indices\n",
    "S = np.array([0, 0, 1, 1, 2, 2])\n",
    "#The unique gets the unique gruops i.e with the same indices and assigns them to variable groups\n",
    "groups = np.unique(S)\n",
    "\n",
    "means = np.array([D[S == g].mean() for g in groups])\n",
    "\n",
    "print(means)"
   ]
  },
  {
   "cell_type": "markdown",
   "metadata": {},
   "source": [
    "#### 69. How to get the diagonal of a dot product? (★★★)"
   ]
  },
  {
   "cell_type": "code",
   "execution_count": 10,
   "metadata": {},
   "outputs": [
    {
     "name": "stdout",
     "output_type": "stream",
     "text": [
      "[[ 84  90  96]\n",
      " [201 216 231]\n",
      " [318 342 366]]\n",
      "[ 84 216 366]\n"
     ]
    }
   ],
   "source": [
    "\"\"\" a = np.array([1, 2, 3])\n",
    "b = np.array([4, 5, 6])\n",
    "\n",
    "c = a.dot(b)\n",
    "\n",
    "d = np.diag(c)\n",
    "print(c) \"\"\"\n",
    "\n",
    "a = np.array([[1,2,3],\n",
    "              [4,5,6],\n",
    "              [7,8,9]])\n",
    "\n",
    "b = np.array([[10,11,12],\n",
    "              [13,14,15],\n",
    "              [16,17,18]])\n",
    "\n",
    "c = a.dot(b)\n",
    "d = np.diag(c)\n",
    "\n",
    "print(c)\n",
    "print(d)"
   ]
  },
  {
   "cell_type": "markdown",
   "metadata": {},
   "source": [
    "#### 70. Consider the vector [1, 2, 3, 4, 5], how to build a new vector with 3 consecutive zeros interleaved between each value? (★★★)"
   ]
  },
  {
   "cell_type": "code",
   "execution_count": 11,
   "metadata": {},
   "outputs": [
    {
     "name": "stdout",
     "output_type": "stream",
     "text": [
      "[np.int64(1), 0, 0, 0, np.int64(2), 0, 0, 0, np.int64(3), 0, 0, 0, np.int64(4), 0, 0, 0, np.int64(5), 0, 0, 0]\n"
     ]
    }
   ],
   "source": [
    "a = np.array([1, 2, 3, 4, 5])\n",
    "\n",
    "zeros = 3\n",
    "\n",
    "result = []\n",
    "\n",
    "#takes every element in a and add it to the result followed by 3 zeros\n",
    "for x in a:\n",
    "    result.extend([x] + [0]*zeros)\n",
    "\n",
    "print(result)"
   ]
  },
  {
   "cell_type": "markdown",
   "metadata": {},
   "source": [
    "#### 71. Consider an array of dimension (5,5,3), how to mulitply it by an array with dimensions (5,5)? (★★★)"
   ]
  },
  {
   "cell_type": "code",
   "execution_count": 12,
   "metadata": {},
   "outputs": [
    {
     "name": "stdout",
     "output_type": "stream",
     "text": [
      "[[[   1    4    9]\n",
      "  [  16   25   36]\n",
      "  [  49   64   81]\n",
      "  [ 100  121  144]\n",
      "  [ 169  196  225]]\n",
      "\n",
      " [[  16   34   54]\n",
      "  [  76  100  126]\n",
      "  [ 154  184  216]\n",
      "  [ 250  286  324]\n",
      "  [ 364  406  450]]\n",
      "\n",
      " [[  31   64   99]\n",
      "  [ 136  175  216]\n",
      "  [ 259  304  351]\n",
      "  [ 400  451  504]\n",
      "  [ 559  616  675]]\n",
      "\n",
      " [[  46   94  144]\n",
      "  [ 196  250  306]\n",
      "  [ 364  424  486]\n",
      "  [ 550  616  684]\n",
      "  [ 754  826  900]]\n",
      "\n",
      " [[  61  124  189]\n",
      "  [ 256  325  396]\n",
      "  [ 469  544  621]\n",
      "  [ 700  781  864]\n",
      "  [ 949 1036 1125]]]\n"
     ]
    }
   ],
   "source": [
    "A = np.arange(1,76).reshape(5,5,3)\n",
    "#print(A)\n",
    "B = np.arange(1,16).reshape(5,3)\n",
    "# print(B)\n",
    "C = A*B\n",
    "print(C)"
   ]
  },
  {
   "cell_type": "markdown",
   "metadata": {},
   "source": [
    "#### 72. How to swap two rows of an array? (★★★)"
   ]
  },
  {
   "cell_type": "code",
   "execution_count": 13,
   "metadata": {},
   "outputs": [
    {
     "name": "stdout",
     "output_type": "stream",
     "text": [
      "[[1 2 3]\n",
      " [4 5 6]\n",
      " [7 8 9]]\n",
      "[[7 8 9]\n",
      " [4 5 6]\n",
      " [1 2 3]]\n"
     ]
    }
   ],
   "source": [
    "A = np.arange(1,10).reshape(3,3)\n",
    "print(A)\n",
    "\n",
    "A[[0,2]] = A[[2,0]]\n",
    "\n",
    "print(A)\n",
    "\n",
    "\n"
   ]
  },
  {
   "cell_type": "markdown",
   "metadata": {},
   "source": [
    "#### 73. Consider a set of 10 triplets describing 10 triangles (with shared vertices), find the set of unique line segments composing all the  triangles (★★★)"
   ]
  },
  {
   "cell_type": "code",
   "execution_count": null,
   "metadata": {},
   "outputs": [],
   "source": []
  },
  {
   "cell_type": "markdown",
   "metadata": {},
   "source": [
    "#### 74. Given a sorted array C that corresponds to a bincount, how to produce an array A such that np.bincount(A) == C? (★★★)"
   ]
  },
  {
   "cell_type": "code",
   "execution_count": 17,
   "metadata": {},
   "outputs": [
    {
     "name": "stdout",
     "output_type": "stream",
     "text": [
      "[2 1 3]\n"
     ]
    },
    {
     "data": {
      "text/plain": [
       "array([ True,  True,  True])"
      ]
     },
     "execution_count": 17,
     "metadata": {},
     "output_type": "execute_result"
    }
   ],
   "source": [
    "#np.bincount counts the number of occurences of non-negative intergers in an array.\n",
    "A = np.bincount([0,0,1,2,2,2])\n",
    "print(A)\n",
    "\n",
    "C = np.array([2,1,3])\n",
    "\n",
    "A == C"
   ]
  },
  {
   "cell_type": "markdown",
   "metadata": {},
   "source": [
    "#### 75. How to compute averages using a sliding window over an array? (★★★)"
   ]
  },
  {
   "cell_type": "code",
   "execution_count": 23,
   "metadata": {},
   "outputs": [
    {
     "name": "stdout",
     "output_type": "stream",
     "text": [
      "[1.5 2.5 3.5 4.5]\n"
     ]
    }
   ],
   "source": [
    "#The convolve function cobines two signals to produce a third signal that represent their interaction.\n",
    "#The key(mode = valid) ensures only full windows are used.\n",
    "A = np.array([1, 2, 3, 4, 5])\n",
    "w = 2\n",
    "\n",
    "window = np.ones(w) / w\n",
    "\n",
    "result = np.convolve(A, window, mode = 'valid')\n",
    "\n",
    "print(result)"
   ]
  },
  {
   "cell_type": "markdown",
   "metadata": {},
   "source": [
    "#### 76. Consider a one-dimensional array Z, build a two-dimensional array whose first row is (Z[0],Z[1],Z[2]) and each subsequent row is  shifted by 1 (last row should be (Z[-3],Z[-2],Z[-1]) (★★★)"
   ]
  },
  {
   "cell_type": "code",
   "execution_count": null,
   "metadata": {},
   "outputs": [
    {
     "name": "stdout",
     "output_type": "stream",
     "text": [
      "[[1 2 3]\n",
      " [2 3 4]]\n"
     ]
    }
   ],
   "source": [
    "Z = np.array([1, 2, 3, 4, 5])\n",
    "rem_rows = len(Z)-2\n",
    "result = Z[np.arange(rem_rows)[:, None] + [0, 1, 2]]\n",
    "print(result)\n",
    "#the rem_rows calculate the number of rows we need to create\n",
    "#the np.arange creates rows starting with 0 ,1 ,2\n",
    "#the [:, None] reshapes the array into a 2D array"
   ]
  },
  {
   "cell_type": "markdown",
   "metadata": {},
   "source": [
    "#### 77. How to negate a boolean, or to change the sign of a float inplace? (★★★)"
   ]
  },
  {
   "cell_type": "code",
   "execution_count": 35,
   "metadata": {},
   "outputs": [
    {
     "name": "stdout",
     "output_type": "stream",
     "text": [
      "[False  True False]\n",
      "[-1.5  1.8 -3. ]\n"
     ]
    }
   ],
   "source": [
    "#negating a boolean\n",
    "bool_arr = np.array([True, False, True])\n",
    "\n",
    "print(~bool_arr)\n",
    "\n",
    "#changing the sign of a float\n",
    "float_arr = np.array([1.5, -1.8, 3.0])\n",
    "\n",
    "float_arr *= -1\n",
    "\n",
    "print(float_arr)\n"
   ]
  },
  {
   "cell_type": "markdown",
   "metadata": {},
   "source": [
    "#### 78. Consider 2 sets of points P0,P1 describing lines (2d) and a point p, how to compute distance from p to each line i (P0[i],P1[i])? (★★★)"
   ]
  },
  {
   "cell_type": "code",
   "execution_count": 37,
   "metadata": {},
   "outputs": [
    {
     "name": "stdout",
     "output_type": "stream",
     "text": [
      "[0.5 0. ]\n"
     ]
    },
    {
     "name": "stderr",
     "output_type": "stream",
     "text": [
      "C:\\Users\\HP ELITEBOOK 840 G6\\AppData\\Local\\Temp\\ipykernel_16328\\3581606894.py:9: DeprecationWarning: Arrays of 2-dimensional vectors are deprecated. Use arrays of 3-dimensional vectors instead. (deprecated in NumPy 2.0)\n",
      "  numerator = np.abs(np.cross(d, P0 - p))\n"
     ]
    }
   ],
   "source": [
    "# d = |(x2-x1)(y1-y0) - (x1-x0)(y2-y1)|/sqrt(x2-x1)sqrd + (y2-y1)sqrd\n",
    "\n",
    "P0 = np.array([[0,0], [1,1]])\n",
    "P1 = np.array([[1,0], [2,2]])\n",
    "p = np.array([0.5, 0.5])\n",
    "\n",
    "d = P1- P0\n",
    "\n",
    "numerator = np.abs(np.cross(d, P0 - p))\n",
    "\n",
    "denominator = np.linalg.norm(d, axis=1)\n",
    "\n",
    "distance = numerator / denominator\n",
    "\n",
    "print(distance)"
   ]
  },
  {
   "cell_type": "markdown",
   "metadata": {},
   "source": [
    "#### 79. Consider 2 sets of points P0,P1 describing lines (2d) and a set of points P, how to compute distance from each point j (P[j]) to each line i (P0[i],P1[i])? (★★★)"
   ]
  },
  {
   "cell_type": "code",
   "execution_count": null,
   "metadata": {},
   "outputs": [
    {
     "name": "stdout",
     "output_type": "stream",
     "text": [
      "[[1 0]\n",
      " [1 1]]\n",
      "[0.5 0. ]\n"
     ]
    },
    {
     "name": "stderr",
     "output_type": "stream",
     "text": [
      "C:\\Users\\HP ELITEBOOK 840 G6\\AppData\\Local\\Temp\\ipykernel_16328\\530566886.py:9: DeprecationWarning: Arrays of 2-dimensional vectors are deprecated. Use arrays of 3-dimensional vectors instead. (deprecated in NumPy 2.0)\n",
      "  numerator = np.abs(np.cross(d, P0 - p))\n"
     ]
    }
   ],
   "source": [
    "# d = |(x2-x1)(y1-y0) - (x1-x0)(y2-y1)|/sqrt(x2-x1)sqrd + (y2-y1)sqrd\n",
    "\n",
    "P0 = np.array([[0,0], [1,1]])\n",
    "P1 = np.array([[1,0], [2,2]])\n",
    "p = np.array([0.5, 0.5])\n",
    "#d is the direction vector of each line\n",
    "d = P1- P0\n",
    "\n",
    "print(d)\n",
    "\n",
    "#The cross product of d and difference in(P0 -p) gives the signed area of a parallelogram\n",
    "#The absolute gives the parraellogram,s area \n",
    "numerator = np.abs(np.cross(d, P0 - p))\n",
    "\n",
    "#for the denominator the np.linalg.norm calculates the norm of a vector which is the magnitude or size.\n",
    "denominator = np.linalg.norm(d, axis=1)\n",
    "\n",
    "distance = numerator / denominator\n",
    "\n",
    "print(distance)"
   ]
  },
  {
   "cell_type": "markdown",
   "metadata": {},
   "source": [
    "#### 80. Consider an arbitrary array, write a function that extract a subpart with a fixed shape and centered on a given element (pad with a `fill` value when necessary) (★★★)"
   ]
  },
  {
   "cell_type": "code",
   "execution_count": null,
   "metadata": {},
   "outputs": [],
   "source": []
  },
  {
   "cell_type": "markdown",
   "metadata": {},
   "source": [
    "#### 81. Consider an array Z = [1,2,3,4,5,6,7,8,9,10,11,12,13,14], how to generate an array R = [[1,2,3,4], [2,3,4,5], [3,4,5,6], ..., [11,12,13,14]]? (★★★)"
   ]
  },
  {
   "cell_type": "code",
   "execution_count": null,
   "metadata": {},
   "outputs": [
    {
     "name": "stdout",
     "output_type": "stream",
     "text": [
      "14\n",
      "[[ 1  2  3  4]\n",
      " [ 2  3  4  5]\n",
      " [ 3  4  5  6]\n",
      " [ 4  5  6  7]\n",
      " [ 5  6  7  8]\n",
      " [ 6  7  8  9]\n",
      " [ 7  8  9 10]\n",
      " [ 8  9 10 11]\n",
      " [ 9 10 11 12]\n",
      " [10 11 12 13]\n",
      " [11 12 13 14]]\n"
     ]
    }
   ],
   "source": [
    "#since Z has 14 members \n",
    "Z = np.array([1,2,3,4,5,6,7,8,9,10,11,12,13,14])\n",
    "\n",
    "w = 4\n",
    "\n",
    "print(len(Z))\n",
    "\n",
    "result = np.array([Z[i:i+w] for i in range(len(Z)- w+1)])\n",
    "#starts off with i=0 and so the first = [0: 4] and so = [1,2,3,4] and so onsince w=4 according to the question\n",
    "#since the range(len(z)- w+1) =  11 that means the loop will run from 0-10 which is 11 steps== 11 slices in total\n",
    "print(result)"
   ]
  },
  {
   "cell_type": "markdown",
   "metadata": {},
   "source": [
    "#### 82. Compute a matrix rank (★★★)"
   ]
  },
  {
   "cell_type": "code",
   "execution_count": null,
   "metadata": {},
   "outputs": [
    {
     "name": "stdout",
     "output_type": "stream",
     "text": [
      "2\n"
     ]
    }
   ],
   "source": [
    "#A matrix rank is the dimension of the vector space generated by its columns so we us the linalg()\n",
    "#np.linalg.matrix_rank(A) internally computes the singular values of A\n",
    "A = np.array([[1,2,3],\n",
    "              [4,5,6],\n",
    "              [7,8,9]])\n",
    "\n",
    "mat_rank = np.linalg.matrix_rank(A)\n",
    "\n",
    "print(mat_rank)"
   ]
  },
  {
   "cell_type": "markdown",
   "metadata": {},
   "source": [
    "#### 83. How to find the most frequent value in an array?"
   ]
  },
  {
   "cell_type": "code",
   "execution_count": 51,
   "metadata": {},
   "outputs": [
    {
     "name": "stdout",
     "output_type": "stream",
     "text": [
      "[0 1 1 2 1 1 3 1 1]\n",
      "6\n"
     ]
    }
   ],
   "source": [
    "Z = np.array([1,2,3,3,4,5,6,6,6,7,8])\n",
    "\n",
    "result = np.bincount(Z)\n",
    "\n",
    "max = np.argmax(result)\n",
    "\n",
    "print(result)\n",
    "\n",
    "print(max)"
   ]
  },
  {
   "cell_type": "markdown",
   "metadata": {},
   "source": [
    "#### 84. Extract all the contiguous 3x3 blocks from a random 10x10 matrix (★★★)"
   ]
  },
  {
   "cell_type": "code",
   "execution_count": null,
   "metadata": {},
   "outputs": [
    {
     "name": "stdout",
     "output_type": "stream",
     "text": [
      "[[  1   2   3   4   5   6   7   8   9  10]\n",
      " [ 11  12  13  14  15  16  17  18  19  20]\n",
      " [ 21  22  23  24  25  26  27  28  29  30]\n",
      " [ 31  32  33  34  35  36  37  38  39  40]\n",
      " [ 41  42  43  44  45  46  47  48  49  50]\n",
      " [ 51  52  53  54  55  56  57  58  59  60]\n",
      " [ 61  62  63  64  65  66  67  68  69  70]\n",
      " [ 71  72  73  74  75  76  77  78  79  80]\n",
      " [ 81  82  83  84  85  86  87  88  89  90]\n",
      " [ 91  92  93  94  95  96  97  98  99 100]]\n",
      "[[[  1   2   3]\n",
      "  [ 11  12  13]\n",
      "  [ 21  22  23]]\n",
      "\n",
      " [[  2   3   4]\n",
      "  [ 12  13  14]\n",
      "  [ 22  23  24]]\n",
      "\n",
      " [[  3   4   5]\n",
      "  [ 13  14  15]\n",
      "  [ 23  24  25]]\n",
      "\n",
      " [[  4   5   6]\n",
      "  [ 14  15  16]\n",
      "  [ 24  25  26]]\n",
      "\n",
      " [[  5   6   7]\n",
      "  [ 15  16  17]\n",
      "  [ 25  26  27]]\n",
      "\n",
      " [[  6   7   8]\n",
      "  [ 16  17  18]\n",
      "  [ 26  27  28]]\n",
      "\n",
      " [[  7   8   9]\n",
      "  [ 17  18  19]\n",
      "  [ 27  28  29]]\n",
      "\n",
      " [[  8   9  10]\n",
      "  [ 18  19  20]\n",
      "  [ 28  29  30]]\n",
      "\n",
      " [[ 11  12  13]\n",
      "  [ 21  22  23]\n",
      "  [ 31  32  33]]\n",
      "\n",
      " [[ 12  13  14]\n",
      "  [ 22  23  24]\n",
      "  [ 32  33  34]]\n",
      "\n",
      " [[ 13  14  15]\n",
      "  [ 23  24  25]\n",
      "  [ 33  34  35]]\n",
      "\n",
      " [[ 14  15  16]\n",
      "  [ 24  25  26]\n",
      "  [ 34  35  36]]\n",
      "\n",
      " [[ 15  16  17]\n",
      "  [ 25  26  27]\n",
      "  [ 35  36  37]]\n",
      "\n",
      " [[ 16  17  18]\n",
      "  [ 26  27  28]\n",
      "  [ 36  37  38]]\n",
      "\n",
      " [[ 17  18  19]\n",
      "  [ 27  28  29]\n",
      "  [ 37  38  39]]\n",
      "\n",
      " [[ 18  19  20]\n",
      "  [ 28  29  30]\n",
      "  [ 38  39  40]]\n",
      "\n",
      " [[ 21  22  23]\n",
      "  [ 31  32  33]\n",
      "  [ 41  42  43]]\n",
      "\n",
      " [[ 22  23  24]\n",
      "  [ 32  33  34]\n",
      "  [ 42  43  44]]\n",
      "\n",
      " [[ 23  24  25]\n",
      "  [ 33  34  35]\n",
      "  [ 43  44  45]]\n",
      "\n",
      " [[ 24  25  26]\n",
      "  [ 34  35  36]\n",
      "  [ 44  45  46]]\n",
      "\n",
      " [[ 25  26  27]\n",
      "  [ 35  36  37]\n",
      "  [ 45  46  47]]\n",
      "\n",
      " [[ 26  27  28]\n",
      "  [ 36  37  38]\n",
      "  [ 46  47  48]]\n",
      "\n",
      " [[ 27  28  29]\n",
      "  [ 37  38  39]\n",
      "  [ 47  48  49]]\n",
      "\n",
      " [[ 28  29  30]\n",
      "  [ 38  39  40]\n",
      "  [ 48  49  50]]\n",
      "\n",
      " [[ 31  32  33]\n",
      "  [ 41  42  43]\n",
      "  [ 51  52  53]]\n",
      "\n",
      " [[ 32  33  34]\n",
      "  [ 42  43  44]\n",
      "  [ 52  53  54]]\n",
      "\n",
      " [[ 33  34  35]\n",
      "  [ 43  44  45]\n",
      "  [ 53  54  55]]\n",
      "\n",
      " [[ 34  35  36]\n",
      "  [ 44  45  46]\n",
      "  [ 54  55  56]]\n",
      "\n",
      " [[ 35  36  37]\n",
      "  [ 45  46  47]\n",
      "  [ 55  56  57]]\n",
      "\n",
      " [[ 36  37  38]\n",
      "  [ 46  47  48]\n",
      "  [ 56  57  58]]\n",
      "\n",
      " [[ 37  38  39]\n",
      "  [ 47  48  49]\n",
      "  [ 57  58  59]]\n",
      "\n",
      " [[ 38  39  40]\n",
      "  [ 48  49  50]\n",
      "  [ 58  59  60]]\n",
      "\n",
      " [[ 41  42  43]\n",
      "  [ 51  52  53]\n",
      "  [ 61  62  63]]\n",
      "\n",
      " [[ 42  43  44]\n",
      "  [ 52  53  54]\n",
      "  [ 62  63  64]]\n",
      "\n",
      " [[ 43  44  45]\n",
      "  [ 53  54  55]\n",
      "  [ 63  64  65]]\n",
      "\n",
      " [[ 44  45  46]\n",
      "  [ 54  55  56]\n",
      "  [ 64  65  66]]\n",
      "\n",
      " [[ 45  46  47]\n",
      "  [ 55  56  57]\n",
      "  [ 65  66  67]]\n",
      "\n",
      " [[ 46  47  48]\n",
      "  [ 56  57  58]\n",
      "  [ 66  67  68]]\n",
      "\n",
      " [[ 47  48  49]\n",
      "  [ 57  58  59]\n",
      "  [ 67  68  69]]\n",
      "\n",
      " [[ 48  49  50]\n",
      "  [ 58  59  60]\n",
      "  [ 68  69  70]]\n",
      "\n",
      " [[ 51  52  53]\n",
      "  [ 61  62  63]\n",
      "  [ 71  72  73]]\n",
      "\n",
      " [[ 52  53  54]\n",
      "  [ 62  63  64]\n",
      "  [ 72  73  74]]\n",
      "\n",
      " [[ 53  54  55]\n",
      "  [ 63  64  65]\n",
      "  [ 73  74  75]]\n",
      "\n",
      " [[ 54  55  56]\n",
      "  [ 64  65  66]\n",
      "  [ 74  75  76]]\n",
      "\n",
      " [[ 55  56  57]\n",
      "  [ 65  66  67]\n",
      "  [ 75  76  77]]\n",
      "\n",
      " [[ 56  57  58]\n",
      "  [ 66  67  68]\n",
      "  [ 76  77  78]]\n",
      "\n",
      " [[ 57  58  59]\n",
      "  [ 67  68  69]\n",
      "  [ 77  78  79]]\n",
      "\n",
      " [[ 58  59  60]\n",
      "  [ 68  69  70]\n",
      "  [ 78  79  80]]\n",
      "\n",
      " [[ 61  62  63]\n",
      "  [ 71  72  73]\n",
      "  [ 81  82  83]]\n",
      "\n",
      " [[ 62  63  64]\n",
      "  [ 72  73  74]\n",
      "  [ 82  83  84]]\n",
      "\n",
      " [[ 63  64  65]\n",
      "  [ 73  74  75]\n",
      "  [ 83  84  85]]\n",
      "\n",
      " [[ 64  65  66]\n",
      "  [ 74  75  76]\n",
      "  [ 84  85  86]]\n",
      "\n",
      " [[ 65  66  67]\n",
      "  [ 75  76  77]\n",
      "  [ 85  86  87]]\n",
      "\n",
      " [[ 66  67  68]\n",
      "  [ 76  77  78]\n",
      "  [ 86  87  88]]\n",
      "\n",
      " [[ 67  68  69]\n",
      "  [ 77  78  79]\n",
      "  [ 87  88  89]]\n",
      "\n",
      " [[ 68  69  70]\n",
      "  [ 78  79  80]\n",
      "  [ 88  89  90]]\n",
      "\n",
      " [[ 71  72  73]\n",
      "  [ 81  82  83]\n",
      "  [ 91  92  93]]\n",
      "\n",
      " [[ 72  73  74]\n",
      "  [ 82  83  84]\n",
      "  [ 92  93  94]]\n",
      "\n",
      " [[ 73  74  75]\n",
      "  [ 83  84  85]\n",
      "  [ 93  94  95]]\n",
      "\n",
      " [[ 74  75  76]\n",
      "  [ 84  85  86]\n",
      "  [ 94  95  96]]\n",
      "\n",
      " [[ 75  76  77]\n",
      "  [ 85  86  87]\n",
      "  [ 95  96  97]]\n",
      "\n",
      " [[ 76  77  78]\n",
      "  [ 86  87  88]\n",
      "  [ 96  97  98]]\n",
      "\n",
      " [[ 77  78  79]\n",
      "  [ 87  88  89]\n",
      "  [ 97  98  99]]\n",
      "\n",
      " [[ 78  79  80]\n",
      "  [ 88  89  90]\n",
      "  [ 98  99 100]]]\n",
      "64\n"
     ]
    }
   ],
   "source": [
    "#In the for loop range(for i the shape of rows = 8) == 7 and ths same for the column which loops through horizontally creating a 3 by 3 matrix\n",
    "G = np.arange(1,101).reshape(10,10)\n",
    "#print(G)\n",
    "\n",
    "blocks = []\n",
    "\n",
    "for i in range(G.shape[0] -2):\n",
    "    for j in range(G.shape[1] - 2):\n",
    "\n",
    "        block = G[i: i+ 3, j:j+3]\n",
    "        blocks.append(block)\n",
    "\n",
    "blocks = np.array(blocks)\n",
    "print(blocks)\n",
    "\n",
    "print(len(blocks))\n"
   ]
  },
  {
   "cell_type": "markdown",
   "metadata": {},
   "source": [
    "#### 85. Create a 2D array subclass such that Z[i,j] == Z[j,i] (★★★)"
   ]
  },
  {
   "cell_type": "code",
   "execution_count": null,
   "metadata": {},
   "outputs": [],
   "source": [
    "Z = np.array([0,0,5],\n",
    "             [0,0,0],\n",
    "             [5,0,0])"
   ]
  },
  {
   "cell_type": "markdown",
   "metadata": {},
   "source": [
    "#### 86. Consider a set of p matrices wich shape (n,n) and a set of p vectors with shape (n,1). How to compute the sum of of the p matrix products at once? (result has shape (n,1)) (★★★)"
   ]
  },
  {
   "cell_type": "code",
   "execution_count": 61,
   "metadata": {},
   "outputs": [
    {
     "name": "stdout",
     "output_type": "stream",
     "text": [
      "[[[1 2 3]\n",
      "  [4 5 6]\n",
      "  [7 8 9]]]\n",
      "[[[1]\n",
      "  [2]\n",
      "  [3]]]\n",
      "[[14]\n",
      " [32]\n",
      " [50]]\n"
     ]
    }
   ],
   "source": [
    "#np.matmul computes the matrix product of two arrays following the rules of linear algebra\n",
    "p, n = 2, 3\n",
    "matrices = np.array([\n",
    "    [[1,2,3], [4,5,6], [7,8,9]]\n",
    "    \n",
    "])\n",
    "print(matrices)\n",
    "vectors = np.array([\n",
    "    [[1], [2], [3]]\n",
    "])\n",
    "print(vectors)\n",
    "result = np.sum(np.matmul(matrices, vectors), axis=0)\n",
    "\n",
    "print(result)"
   ]
  },
  {
   "cell_type": "markdown",
   "metadata": {},
   "source": [
    "#### 87. Consider a 16x16 array, how to get the block-sum (block size is 4x4)? (★★★)"
   ]
  },
  {
   "cell_type": "code",
   "execution_count": 72,
   "metadata": {},
   "outputs": [
    {
     "name": "stdout",
     "output_type": "stream",
     "text": [
      "[[  1   2   3   4   5   6   7   8   9  10  11  12  13  14  15  16]\n",
      " [ 17  18  19  20  21  22  23  24  25  26  27  28  29  30  31  32]\n",
      " [ 33  34  35  36  37  38  39  40  41  42  43  44  45  46  47  48]\n",
      " [ 49  50  51  52  53  54  55  56  57  58  59  60  61  62  63  64]\n",
      " [ 65  66  67  68  69  70  71  72  73  74  75  76  77  78  79  80]\n",
      " [ 81  82  83  84  85  86  87  88  89  90  91  92  93  94  95  96]\n",
      " [ 97  98  99 100 101 102 103 104 105 106 107 108 109 110 111 112]\n",
      " [113 114 115 116 117 118 119 120 121 122 123 124 125 126 127 128]\n",
      " [129 130 131 132 133 134 135 136 137 138 139 140 141 142 143 144]\n",
      " [145 146 147 148 149 150 151 152 153 154 155 156 157 158 159 160]\n",
      " [161 162 163 164 165 166 167 168 169 170 171 172 173 174 175 176]\n",
      " [177 178 179 180 181 182 183 184 185 186 187 188 189 190 191 192]\n",
      " [193 194 195 196 197 198 199 200 201 202 203 204 205 206 207 208]\n",
      " [209 210 211 212 213 214 215 216 217 218 219 220 221 222 223 224]\n",
      " [225 226 227 228 229 230 231 232 233 234 235 236 237 238 239 240]\n",
      " [241 242 243 244 245 246 247 248 249 250 251 252 253 254 255 256]]\n",
      "[[ 424  488  552  616]\n",
      " [1448 1512 1576 1640]\n",
      " [2472 2536 2600 2664]\n",
      " [3496 3560 3624 3688]]\n"
     ]
    }
   ],
   "source": [
    "H = np.arange(1, 257).reshape(16,16)\n",
    "print(H)\n",
    "\n",
    "block_size = 4\n",
    "\n",
    "n = len(H)\n",
    "\n",
    "#Arranging the array into 4D blocks\n",
    "J = H.reshape(n//block_size, block_size, n//block_size, block_size)\n",
    "\n",
    "#print(J)\n",
    "\n",
    "#sum for axis 1= rows, 3= columns\n",
    "block_sums = J.sum(axis = (1,3))\n",
    "\n",
    "print(block_sums)"
   ]
  },
  {
   "cell_type": "markdown",
   "metadata": {},
   "source": [
    "#### 88. How to implement the Game of Life using numpy arrays? (★★★)"
   ]
  },
  {
   "cell_type": "code",
   "execution_count": null,
   "metadata": {},
   "outputs": [],
   "source": [
    "#Rules to play(A live cell with 2 or 3 live neighbours ==> stays alive)\n",
    "#              (A dead cell with exactly 3 live neighbors becomes alive)\n",
    "#               otherwise cell dies or remains dead"
   ]
  },
  {
   "cell_type": "markdown",
   "metadata": {},
   "source": [
    "#### 89. How to get the n largest values of an array (★★★)"
   ]
  },
  {
   "cell_type": "code",
   "execution_count": null,
   "metadata": {},
   "outputs": [
    {
     "name": "stdout",
     "output_type": "stream",
     "text": [
      "[10  9  8  7  6]\n"
     ]
    }
   ],
   "source": [
    "M = np.array([10,6,7,8,9,4,2])\n",
    "n = 5\n",
    "\n",
    "#sorts the array in descending order and gives the first 5\n",
    "largest_values = np.sort(M)[-n:][::-1]\n",
    "\n",
    "print(largest_values)"
   ]
  },
  {
   "cell_type": "markdown",
   "metadata": {},
   "source": [
    "#### 90. Given an arbitrary number of vectors, build the cartesian product (every combinations of every item) (★★★)"
   ]
  },
  {
   "cell_type": "code",
   "execution_count": null,
   "metadata": {},
   "outputs": [
    {
     "name": "stdout",
     "output_type": "stream",
     "text": [
      "[[1 3 5]\n",
      " [1 3 6]\n",
      " [1 4 5]\n",
      " [1 4 6]\n",
      " [2 3 5]\n",
      " [2 3 6]\n",
      " [2 4 5]\n",
      " [2 4 6]]\n"
     ]
    }
   ],
   "source": [
    "vectors = [np.array([1,2]), np.array([3,4]), np.array([5,6])]\n",
    "\n",
    "#compute cartesian product\n",
    "#Create meshgrid with indexing='ij'\n",
    "grids = np.meshgrid(*vectors, indexing = 'ij')\n",
    "\n",
    "result = np.stack(grids, axis=-1).reshape(-1, len(vectors))\n",
    "\n",
    "print(result)"
   ]
  },
  {
   "cell_type": "markdown",
   "metadata": {},
   "source": [
    "#### 91. How to create a record array from a regular array? (★★★)"
   ]
  },
  {
   "cell_type": "code",
   "execution_count": null,
   "metadata": {},
   "outputs": [
    {
     "name": "stdout",
     "output_type": "stream",
     "text": [
      "[(1, 200, 20) (2, 500, 50) (3, 800, 80)]\n"
     ]
    }
   ],
   "source": [
    "L = np.array([[1, 200, 20],\n",
    "              [2, 500, 50],\n",
    "              [3, 800, 80]\n",
    "              ])\n",
    "\n",
    "names = ['id', 'value', 'count']\n",
    "\n",
    "#T is for transponse since .fromarrays expects a list of columns\n",
    "#The np.rec provides convenience functions for creating and manipulating arrays\n",
    "rec_array = np.rec.fromarrays(L.T, names=names)\n",
    "\n",
    "print(rec_array)"
   ]
  },
  {
   "cell_type": "markdown",
   "metadata": {},
   "source": [
    "#### 92. Consider a large vector Z, compute Z to the power of 3 using 3 different methods (★★★)"
   ]
  },
  {
   "cell_type": "code",
   "execution_count": 79,
   "metadata": {},
   "outputs": [
    {
     "name": "stdout",
     "output_type": "stream",
     "text": [
      "[   1    8   27   64  125  216  343  512  729 1000]\n",
      "[   1    8   27   64  125  216  343  512  729 1000]\n",
      "[   1    8   27   64  125  216  343  512  729 1000]\n"
     ]
    }
   ],
   "source": [
    "##using the ** operator\n",
    "Z = np.arange(1,11)\n",
    "Z_cubed = Z ** 3\n",
    "print(Z_cubed)\n",
    "#using the np.power\n",
    "Z_cubed2 = np.power(Z,3)\n",
    "print(Z_cubed2)\n",
    "#using manual multiplication\n",
    "Z_cubed3 = Z * Z * Z\n",
    "print(Z_cubed3)"
   ]
  },
  {
   "cell_type": "markdown",
   "metadata": {},
   "source": [
    "#### 93. Consider two arrays A and B of shape (8,3) and (2,2). How to find rows of A that contain elements of each row of B regardless of the order of the elements in B? (★★★)"
   ]
  },
  {
   "cell_type": "code",
   "execution_count": 81,
   "metadata": {},
   "outputs": [
    {
     "name": "stdout",
     "output_type": "stream",
     "text": [
      "[array([0, 3]), array([7])]\n"
     ]
    }
   ],
   "source": [
    "U = np.array([\n",
    "    [1, 2, 3],\n",
    "    [4, 5, 6],\n",
    "    [7, 8, 9],\n",
    "    [9, 1, 2],\n",
    "    [1, 4, 5],\n",
    "    [6, 2, 3],\n",
    "    [7, 8, 4],\n",
    "    [2, 3, 4],\n",
    "])\n",
    "\n",
    "T = np.array([\n",
    "    [1, 2],\n",
    "    [3, 4]\n",
    "])\n",
    "\n",
    "matches = []\n",
    "for t_row in T:\n",
    "    matching_arrays = np.array([np.all(np.isin(t_row, u_row)) for u_row in U])\n",
    "    matching_indices = np.where(matching_arrays)[0]\n",
    "    matches.append(matching_indices)\n",
    "\n",
    "\n",
    "print(matches)\n",
    "\n"
   ]
  },
  {
   "cell_type": "markdown",
   "metadata": {},
   "source": [
    "#### 94. Considering a 10x3 matrix, extract rows with unequal values (e.g. [2,2,3]) (★★★)"
   ]
  },
  {
   "cell_type": "code",
   "execution_count": null,
   "metadata": {},
   "outputs": [
    {
     "name": "stdout",
     "output_type": "stream",
     "text": [
      "[[1 2 1]\n",
      " [1 1 4]\n",
      " [1 3 1]\n",
      " [4 1 2]\n",
      " [1 6 7]\n",
      " [2 1 8]]\n"
     ]
    }
   ],
   "source": [
    "#D = np.arange(1,31).reshape(10,3)\n",
    "D = np.array([\n",
    "    [1, 1, 1],\n",
    "    [1, 2, 1],\n",
    "    [1, 1, 4],\n",
    "    [2, 2, 2],\n",
    "    [1, 3, 1],\n",
    "    [3, 3, 3],\n",
    "    [4, 1, 2],\n",
    "    [5, 5, 5],\n",
    "    [1, 6, 7],\n",
    "    [2, 1, 8]\n",
    "])\n",
    "\n",
    "#performs element-wise comparison of each row with the first element and gives a boolean\n",
    "#The np.any checks if any element in the row is true\n",
    "\n",
    "formula_rows = np.any(D != D[:, [0]], axis=1)\n",
    "\n",
    "unequal_rows = D[formula_rows]\n",
    "\n",
    "print(unequal_rows)\n",
    "\n"
   ]
  },
  {
   "cell_type": "markdown",
   "metadata": {},
   "source": [
    "#### 95. Convert a vector of ints into a matrix binary representation (★★★)"
   ]
  },
  {
   "cell_type": "code",
   "execution_count": 91,
   "metadata": {},
   "outputs": [
    {
     "name": "stdout",
     "output_type": "stream",
     "text": [
      "[[0 0 0 0]\n",
      " [0 0 0 0]\n",
      " [0 0 0 0]\n",
      " [0 0 0 1]\n",
      " [0 0 0 0]\n",
      " [0 0 1 0]\n",
      " [0 0 0 0]\n",
      " [0 0 1 1]\n",
      " [0 0 0 0]\n",
      " [0 1 0 0]\n",
      " [0 0 0 0]\n",
      " [0 1 0 1]\n",
      " [0 0 0 0]\n",
      " [0 1 1 0]\n",
      " [0 0 0 0]\n",
      " [0 1 1 1]\n",
      " [0 0 0 0]\n",
      " [1 0 0 0]]\n"
     ]
    }
   ],
   "source": [
    "W =np.array([0,1,2,3,4,5,6,7,8], dtype=np.uint8)\n",
    "\n",
    "binary_representation = np.unpackbits(W)\n",
    "\n",
    "array_binary_representation = np.array(binary_representation).reshape(18,4)\n",
    "\n",
    "print(array_binary_representation)"
   ]
  },
  {
   "cell_type": "markdown",
   "metadata": {},
   "source": [
    "#### 96. Given a two dimensional array, how to extract unique rows? (★★★)"
   ]
  },
  {
   "cell_type": "code",
   "execution_count": null,
   "metadata": {},
   "outputs": [
    {
     "name": "stdout",
     "output_type": "stream",
     "text": [
      "[[1 2 3]\n",
      " [4 5 6]]\n"
     ]
    }
   ],
   "source": [
    "Q = np.array([\n",
    "    [1, 2, 3],\n",
    "    [4, 5, 6],\n",
    "    [1, 2, 3],\n",
    "    [4, 5, 6],\n",
    "    [1, 2, 3]\n",
    "])\n",
    "\n",
    "#when we set axis=0 tells the Numpy to look along rows\n",
    "#np.unique returns unique rows \n",
    "unique_rows = np.unique(Q, axis=0)\n",
    "\n",
    "print(unique_rows)"
   ]
  },
  {
   "cell_type": "markdown",
   "metadata": {},
   "source": [
    "#### 97. Considering 2 vectors A & B, write the einsum equivalent of inner, outer, sum, and mul function (★★★)"
   ]
  },
  {
   "cell_type": "code",
   "execution_count": 101,
   "metadata": {},
   "outputs": [
    {
     "name": "stdout",
     "output_type": "stream",
     "text": [
      "32\n",
      "[[ 4  5  6]\n",
      " [ 8 10 12]\n",
      " [12 15 18]]\n",
      "[ 4 10 18]\n",
      "[ 4 10 18]\n"
     ]
    }
   ],
   "source": [
    "A = np.array([1, 2, 3])\n",
    "B = np.array([4, 5, 6])\n",
    "\n",
    "#inner product\n",
    "#i means \"loop over the index i\" in both vectors\n",
    "#The -> with nothing after means \"sum over i\"\n",
    "#That gives the dot product\n",
    "inner = np.einsum('i, i->', A, B)\n",
    "print(inner)\n",
    "\n",
    "#outer product\n",
    "#First vector contributes index i, second contributes index j\n",
    "#Output has indices ij, meaning a matrix\n",
    "#Thats the outer product\n",
    "outer = np.einsum('i, j->ij', A, B)\n",
    "print(outer)\n",
    "\n",
    "#einsum only handles mutiplicationa and summation, so elementwise sum is not natuarraly done with einsum\n",
    "#Elementwise Sum\n",
    "sum_elem = np.einsum('i,i->i', A,B)\n",
    "print(sum_elem)\n",
    "\n",
    "#Elementwise Multiplication\n",
    "#Same index i appears in input and output\n",
    "#Means \"dont sum, just mutiply elementwise and keep index i\"\n",
    "#Thats elementwise multiplication\n",
    "mul_element = np.einsum('i,i->i', A,B)\n",
    "print(mul_element)"
   ]
  },
  {
   "cell_type": "markdown",
   "metadata": {},
   "source": [
    "#### 98. Considering a path described by two vectors (X,Y), how to sample it using equidistant samples (★★★)?"
   ]
  },
  {
   "cell_type": "code",
   "execution_count": null,
   "metadata": {},
   "outputs": [],
   "source": [
    "X = np.array([1,2,3,4,5])\n",
    "\n",
    "Y = np.array([6,7,8,9,10])"
   ]
  },
  {
   "cell_type": "markdown",
   "metadata": {},
   "source": [
    "#### 99. Given an integer n and a 2D array X, select from X the rows which can be interpreted as draws from a multinomial distribution with n degrees, i.e., the rows which only contain integers and which sum to n. (★★★)"
   ]
  },
  {
   "cell_type": "code",
   "execution_count": null,
   "metadata": {},
   "outputs": [],
   "source": []
  },
  {
   "cell_type": "markdown",
   "metadata": {},
   "source": [
    "#### 100. Compute bootstrapped 95% confidence intervals for the mean of a 1D array X (i.e., resample the elements of an array with replacement N times, compute the mean of each sample, and then compute percentiles over the means). (★★★)"
   ]
  },
  {
   "cell_type": "code",
   "execution_count": null,
   "metadata": {},
   "outputs": [],
   "source": []
  },
  {
   "cell_type": "code",
   "execution_count": null,
   "metadata": {},
   "outputs": [],
   "source": []
  }
 ],
 "metadata": {
  "kernelspec": {
   "display_name": "venv",
   "language": "python",
   "name": "python3"
  },
  "language_info": {
   "codemirror_mode": {
    "name": "ipython",
    "version": 3
   },
   "file_extension": ".py",
   "mimetype": "text/x-python",
   "name": "python",
   "nbconvert_exporter": "python",
   "pygments_lexer": "ipython3",
   "version": "3.13.7"
  }
 },
 "nbformat": 4,
 "nbformat_minor": 4
}
